{
 "cells": [
  {
   "cell_type": "code",
   "execution_count": 2,
   "metadata": {
    "collapsed": false
   },
   "outputs": [],
   "source": [
    "using CSV\n",
    "using DataFrames\n",
    "using FileIO"
   ]
  },
  {
   "cell_type": "code",
   "execution_count": 36,
   "metadata": {
    "collapsed": false
   },
   "outputs": [
    {
     "data": {
      "text/plain": [
       "3-element Vector{Int64}:\n",
       " 1\n",
       " 2\n",
       " 3"
      ]
     },
     "execution_count": 36,
     "metadata": {},
     "output_type": "execute_result"
    }
   ],
   "source": [
    "a = [1,2,3]"
   ]
  },
  {
   "cell_type": "code",
   "execution_count": 39,
   "metadata": {
    "collapsed": false
   },
   "outputs": [
    {
     "data": {
      "text/plain": [
       "4-element Vector{Int64}:\n",
       " 4\n",
       " 1\n",
       " 2\n",
       " 3"
      ]
     },
     "execution_count": 39,
     "metadata": {},
     "output_type": "execute_result"
    }
   ],
   "source": [
    "[4; a]"
   ]
  },
  {
   "cell_type": "code",
   "execution_count": 62,
   "metadata": {
    "collapsed": false
   },
   "outputs": [
    {
     "data": {
      "text/plain": [
       "merge (generic function with 2 methods)"
      ]
     },
     "execution_count": 62,
     "metadata": {},
     "output_type": "execute_result"
    }
   ],
   "source": [
    "function write_merged_spec(save_name, specs)\n",
    "#     @show save_name\n",
    "#     @show specs\n",
    "    open(save_name, \"w\") do io\n",
    "        write(io, \"(declare-const X_0 Real)\\n\")\n",
    "        write(io, \"(declare-const Y_0 Real)\\n\")\n",
    "        write(io, \"(assert (or\\n\")\n",
    "        for i in 1:length(specs)\n",
    "            write(io, \"    (and (>= X_0 \"*string(specs[i][1])*\") (<= X_0 \"*string(specs[i][2])*\") (> Y_0 \"*string(specs[i][3])*\"))\\n\")\n",
    "        end\n",
    "        write(io, \"))\\n\")\n",
    "    end\n",
    "end\n",
    "\n",
    "function read_spec(spec_name)\n",
    "    open(spec_name, \"r\") do io\n",
    "        readline(io)\n",
    "        readline(io)\n",
    "        x1 = parse(Float64, split(readline(io)[1:end-2], \" \")[end])\n",
    "        x2 = parse(Float64, split(readline(io)[1:end-2], \" \")[end])\n",
    "        y1 = parse(Float64, split(readline(io)[1:end-2], \" \")[end])\n",
    "        y2 = parse(Float64, split(readline(io)[1:end-2], \" \")[end])\n",
    "        return [x1, x2, y2]\n",
    "    end\n",
    "end\n",
    "function merge(csv_name, sep=5)\n",
    "    df = CSV.read(csv_name,DataFrame, header=false)\n",
    "    specs = []\n",
    "    save_name = []\n",
    "    spec_nets = []\n",
    "    spec_names = []\n",
    "    spec_times = []\n",
    "    times = []\n",
    "    for i in 1:size(df)[1]\n",
    "        sp = split(df[i,2][1:end-7],\"_\")\n",
    "        tot_idx = parse(Int64, sp[end-1])\n",
    "        spec_idx = parse(Int64, sp[end])\n",
    "        if spec_idx > tot_idx\n",
    "            break #violation case\n",
    "        end\n",
    "#         @show df[i,3]\n",
    "#         @show read_spec(df[i,2])\n",
    "        push!(specs, read_spec(df[i,2]))\n",
    "        push!(save_name, string(spec_idx))\n",
    "        push!(times, df[i,3])\n",
    "        if mod(i,sep) == 0\n",
    "            save_name = join([sp[1]; sp[2]; save_name;], '_')*\".vnnlib\"\n",
    "            write_merged_spec(save_name, specs)\n",
    "            push!(spec_names, save_name)\n",
    "            push!(spec_times, sum(times))\n",
    "            push!(spec_nets, df[i,1])\n",
    "            save_name = []\n",
    "            specs = []\n",
    "            times = []\n",
    "        end\n",
    "    end\n",
    "    csv_name = csv_name[1:end-4] * \"_disjunction\" * csv_name[end-3:end]\n",
    "    @show csv_name\n",
    "    df = DataFrame(net = spec_nets, spec = spec_names, time = spec_times)\n",
    "    CSV.write(csv_name, df, header=false) \n",
    "end"
   ]
  },
  {
   "cell_type": "code",
   "execution_count": 63,
   "metadata": {
    "collapsed": false
   },
   "outputs": [
    {
     "name": "stdout",
     "output_type": "stream",
     "text": [
      "csv_name = \"normal_100_disjunction.csv\"\n",
      "csv_name = \"normal_1000_disjunction.csv\"\n",
      "csv_name = \"lognormal_100_disjunction.csv\"\n",
      "csv_name = \"lognormal_1000_disjunction.csv\"\n",
      "csv_name = \"piecewise_100_disjunction.csv\"\n",
      "csv_name = \"piecewise_1000_disjunction.csv\"\n"
     ]
    },
    {
     "data": {
      "text/plain": [
       "\"piecewise_1000_disjunction.csv\""
      ]
     },
     "execution_count": 63,
     "metadata": {},
     "output_type": "execute_result"
    }
   ],
   "source": [
    "merge(\"normal_100.csv\", 5)\n",
    "merge(\"normal_1000.csv\", 50)\n",
    "merge(\"lognormal_100.csv\", 5)\n",
    "merge(\"lognormal_1000.csv\", 50)\n",
    "merge(\"piecewise_100.csv\", 5)\n",
    "merge(\"piecewise_1000.csv\", 50)"
   ]
  },
  {
   "cell_type": "code",
   "execution_count": null,
   "metadata": {
    "collapsed": true
   },
   "outputs": [],
   "source": []
  }
 ],
 "metadata": {
  "kernelspec": {
   "display_name": "Julia 1.6.1",
   "language": "julia",
   "name": "julia-1.6"
  },
  "language_info": {
   "file_extension": ".jl",
   "mimetype": "application/julia",
   "name": "julia",
   "version": "1.6.1"
  }
 },
 "nbformat": 4,
 "nbformat_minor": 1
}
